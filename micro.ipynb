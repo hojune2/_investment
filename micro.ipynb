{
 "cells": [
  {
   "cell_type": "code",
   "execution_count": 1,
   "id": "41c69f34",
   "metadata": {
    "ExecuteTime": {
     "end_time": "2023-09-17T06:17:38.232231Z",
     "start_time": "2023-09-17T06:17:18.091417Z"
    }
   },
   "outputs": [
    {
     "name": "stderr",
     "output_type": "stream",
     "text": [
      "\n",
      "[notice] A new release of pip is available: 23.1.2 -> 23.2.1\n",
      "[notice] To update, run: python.exe -m pip install --upgrade pip\n",
      "\n",
      "[notice] A new release of pip is available: 23.1.2 -> 23.2.1\n",
      "[notice] To update, run: python.exe -m pip install --upgrade pip\n",
      "\n",
      "[notice] A new release of pip is available: 23.1.2 -> 23.2.1\n",
      "[notice] To update, run: python.exe -m pip install --upgrade pip\n",
      "\n",
      "[notice] A new release of pip is available: 23.1.2 -> 23.2.1\n",
      "[notice] To update, run: python.exe -m pip install --upgrade pip\n",
      "\n",
      "[notice] A new release of pip is available: 23.1.2 -> 23.2.1\n",
      "[notice] To update, run: python.exe -m pip install --upgrade pip\n"
     ]
    },
    {
     "name": "stdout",
     "output_type": "stream",
     "text": [
      "Requirement already satisfied: pip in c:\\users\\pc\\appdata\\roaming\\python\\python39\\site-packages (23.1.2)\n",
      "Collecting pip\n",
      "  Using cached pip-23.2.1-py3-none-any.whl (2.1 MB)\n"
     ]
    },
    {
     "name": "stderr",
     "output_type": "stream",
     "text": [
      "ERROR: To modify pip, please run the following command:\n",
      "C:\\Users\\pc\\anaconda3\\python.exe -m pip install --upgrade pip\n",
      "\n",
      "[notice] A new release of pip is available: 23.1.2 -> 23.2.1\n",
      "[notice] To update, run: python.exe -m pip install --upgrade pip\n"
     ]
    }
   ],
   "source": [
    "!pip install yfinance --quiet\n",
    "!pip install getFamaFrenchFactors --quiet\n",
    "!pip install pymysql --quiet\n",
    "!pip install selenium --quiet\n",
    "!pip install webdriver-manager --quiet\n",
    "!pip install --upgrade pip"
   ]
  },
  {
   "cell_type": "code",
   "execution_count": 2,
   "id": "e68dc182",
   "metadata": {
    "ExecuteTime": {
     "end_time": "2023-09-17T06:17:47.022213Z",
     "start_time": "2023-09-17T06:17:38.249793Z"
    }
   },
   "outputs": [],
   "source": [
    "#필요 라이브러리\n",
    "import talib\n",
    "import matplotlib.pyplot as plt\n",
    "%matplotlib inline\n",
    "from sklearn.metrics import mean_squared_error,  mean_absolute_error, mean_absolute_percentage_error\n",
    "from sklearn import metrics\n",
    "from sklearn.model_selection import train_test_split\n",
    "from scipy import stats\n",
    "import statsmodels.api as sm\n",
    "from sklearn import preprocessing\n",
    "import seaborn as sns\n",
    "import matplotlib.pyplot as plt\n",
    "import numpy as np\n",
    "import pandas as pd\n",
    "import os\n",
    "import warnings\n",
    "import yfinance as yf\n",
    "import getFamaFrenchFactors as gff\n",
    "from statsmodels.regression.rolling import RollingOLS\n",
    "import FinanceDataReader as fdr\n",
    "sns.set()\n",
    "import requests as rq\n",
    "from bs4 import BeautifulSoup\n",
    "import re\n",
    "import pymysql\n",
    "from sqlalchemy import create_engine\n",
    "from datetime import date\n",
    "from dateutil.relativedelta import relativedelta\n",
    "import time\n",
    "from tqdm import tqdm\n",
    "from io import BytesIO\n",
    "import keyring\n",
    "import zipfile\n",
    "import json\n",
    "from selenium import webdriver\n",
    "from selenium.webdriver.chrome.service import Service\n",
    "from selenium.webdriver.common.by import By\n",
    "from selenium.webdriver.common.keys import Keys\n",
    "from webdriver_manager.chrome import ChromeDriverManager\n",
    "plt.rcParams['font.family'] = 'Malgun Gothic'\n",
    "plt.rcParams['axes.unicode_minus'] = False"
   ]
  },
  {
   "cell_type": "markdown",
   "id": "f23c0147",
   "metadata": {},
   "source": [
    "# 듀얼모멘텀 확인"
   ]
  },
  {
   "cell_type": "code",
   "execution_count": 3,
   "id": "10962fb4",
   "metadata": {
    "ExecuteTime": {
     "end_time": "2023-09-17T06:17:51.926340Z",
     "start_time": "2023-09-17T06:17:50.036055Z"
    }
   },
   "outputs": [],
   "source": [
    "data1=yf.Ticker('^GSPC')\n",
    "abm=data1.history(period='1y',actions=False)\n",
    "data2=yf.Ticker('ACWX')\n",
    "rem=data2.history(period='1y',actions=False)\n",
    "abm.drop(['Open','High','Low','Volume'],axis=1,inplace=True)\n",
    "rem.drop(['Open','High','Low','Volume'],axis=1,inplace=True)"
   ]
  },
  {
   "cell_type": "code",
   "execution_count": 7,
   "id": "5e93daaa",
   "metadata": {
    "ExecuteTime": {
     "end_time": "2023-09-04T02:08:58.173417Z",
     "start_time": "2023-09-04T02:08:58.150501Z"
    }
   },
   "outputs": [],
   "source": [
    "abmret=abm.pct_change().dropna()\n",
    "remret=rem.pct_change().dropna()\n",
    "\n",
    "abmy=abmret.rolling(250).mean().dropna()*252\n",
    "remy=remret.rolling(250).mean().dropna()*252"
   ]
  },
  {
   "cell_type": "code",
   "execution_count": 8,
   "id": "4461cac5",
   "metadata": {
    "ExecuteTime": {
     "end_time": "2023-09-04T02:08:59.058597Z",
     "start_time": "2023-09-04T02:08:59.021728Z"
    }
   },
   "outputs": [
    {
     "data": {
      "text/html": [
       "<div>\n",
       "<style scoped>\n",
       "    .dataframe tbody tr th:only-of-type {\n",
       "        vertical-align: middle;\n",
       "    }\n",
       "\n",
       "    .dataframe tbody tr th {\n",
       "        vertical-align: top;\n",
       "    }\n",
       "\n",
       "    .dataframe thead th {\n",
       "        text-align: right;\n",
       "    }\n",
       "</style>\n",
       "<table border=\"1\" class=\"dataframe\">\n",
       "  <thead>\n",
       "    <tr style=\"text-align: right;\">\n",
       "      <th></th>\n",
       "      <th>Close</th>\n",
       "    </tr>\n",
       "    <tr>\n",
       "      <th>Date</th>\n",
       "      <th></th>\n",
       "    </tr>\n",
       "  </thead>\n",
       "  <tbody>\n",
       "    <tr>\n",
       "      <th>2023-09-01 00:00:00-04:00</th>\n",
       "      <td>-0.000533</td>\n",
       "    </tr>\n",
       "  </tbody>\n",
       "</table>\n",
       "</div>"
      ],
      "text/plain": [
       "                              Close\n",
       "Date                               \n",
       "2023-09-01 00:00:00-04:00 -0.000533"
      ]
     },
     "execution_count": 8,
     "metadata": {},
     "output_type": "execute_result"
    }
   ],
   "source": [
    "(abmy-remy)"
   ]
  },
  {
   "cell_type": "markdown",
   "id": "d1263fe5",
   "metadata": {},
   "source": [
    "듀얼모멘텀 전략입니다. S&P가 ACWX 보다 1년 수익률이 높은 상태이므로 현재는 S&P500으로 모멘텀 전략을 실행합니다."
   ]
  },
  {
   "cell_type": "markdown",
   "id": "32da8f95",
   "metadata": {
    "ExecuteTime": {
     "end_time": "2023-06-02T06:28:43.000763Z",
     "start_time": "2023-06-02T06:28:42.984130Z"
    }
   },
   "source": [
    "최근들어 효율적 위험관리를 위해 무조건 가치투자만 하는것이 아닌 다양한 팩터로 분산하여 투자하고 있습니다. 저는 현재는 밸류 +듀얼모멘텀 +캐리 로 분산하고 있습니다."
   ]
  },
  {
   "cell_type": "code",
   "execution_count": 143,
   "id": "6f8077eb",
   "metadata": {
    "ExecuteTime": {
     "end_time": "2023-06-02T06:27:09.337868Z",
     "start_time": "2023-06-02T06:27:09.324350Z"
    }
   },
   "outputs": [],
   "source": [
    "#미국채종합지수\n"
   ]
  },
  {
   "cell_type": "markdown",
   "id": "f0b77b59",
   "metadata": {},
   "source": [
    "# 국내주식"
   ]
  },
  {
   "cell_type": "code",
   "execution_count": 14,
   "id": "0b9b8a82",
   "metadata": {
    "ExecuteTime": {
     "end_time": "2023-09-17T06:25:30.081736Z",
     "start_time": "2023-09-17T06:25:28.958754Z"
    }
   },
   "outputs": [
    {
     "name": "stdout",
     "output_type": "stream",
     "text": [
      "[*********************100%***********************]  7 of 7 completed\n"
     ]
    },
    {
     "data": {
      "text/html": [
       "<div>\n",
       "<style scoped>\n",
       "    .dataframe tbody tr th:only-of-type {\n",
       "        vertical-align: middle;\n",
       "    }\n",
       "\n",
       "    .dataframe tbody tr th {\n",
       "        vertical-align: top;\n",
       "    }\n",
       "\n",
       "    .dataframe thead th {\n",
       "        text-align: right;\n",
       "    }\n",
       "</style>\n",
       "<table border=\"1\" class=\"dataframe\">\n",
       "  <thead>\n",
       "    <tr style=\"text-align: right;\">\n",
       "      <th></th>\n",
       "      <th>005380.KS</th>\n",
       "      <th>005930.KS</th>\n",
       "      <th>035720.KS</th>\n",
       "      <th>123310.KS</th>\n",
       "      <th>337930.KQ</th>\n",
       "      <th>353200.KS</th>\n",
       "      <th>SPY</th>\n",
       "    </tr>\n",
       "    <tr>\n",
       "      <th>Date</th>\n",
       "      <th></th>\n",
       "      <th></th>\n",
       "      <th></th>\n",
       "      <th></th>\n",
       "      <th></th>\n",
       "      <th></th>\n",
       "      <th></th>\n",
       "    </tr>\n",
       "  </thead>\n",
       "  <tbody>\n",
       "    <tr>\n",
       "      <th>2021-09-15</th>\n",
       "      <td>195281.43750</td>\n",
       "      <td>73660.953125</td>\n",
       "      <td>123207.585938</td>\n",
       "      <td>4300.0</td>\n",
       "      <td>11086.661133</td>\n",
       "      <td>16653.384766</td>\n",
       "      <td>NaN</td>\n",
       "    </tr>\n",
       "    <tr>\n",
       "      <th>2021-09-16</th>\n",
       "      <td>193883.21875</td>\n",
       "      <td>72799.976562</td>\n",
       "      <td>122201.804688</td>\n",
       "      <td>4345.0</td>\n",
       "      <td>11283.756836</td>\n",
       "      <td>16459.740234</td>\n",
       "      <td>432.292297</td>\n",
       "    </tr>\n",
       "    <tr>\n",
       "      <th>2021-09-17</th>\n",
       "      <td>194815.37500</td>\n",
       "      <td>73852.289062</td>\n",
       "      <td>120190.257812</td>\n",
       "      <td>4330.0</td>\n",
       "      <td>11530.126953</td>\n",
       "      <td>16992.261719</td>\n",
       "      <td>428.081360</td>\n",
       "    </tr>\n",
       "    <tr>\n",
       "      <th>2021-09-20</th>\n",
       "      <td>NaN</td>\n",
       "      <td>NaN</td>\n",
       "      <td>NaN</td>\n",
       "      <td>NaN</td>\n",
       "      <td>NaN</td>\n",
       "      <td>NaN</td>\n",
       "      <td>420.943420</td>\n",
       "    </tr>\n",
       "    <tr>\n",
       "      <th>2021-09-21</th>\n",
       "      <td>NaN</td>\n",
       "      <td>NaN</td>\n",
       "      <td>NaN</td>\n",
       "      <td>NaN</td>\n",
       "      <td>NaN</td>\n",
       "      <td>NaN</td>\n",
       "      <td>420.545746</td>\n",
       "    </tr>\n",
       "    <tr>\n",
       "      <th>...</th>\n",
       "      <td>...</td>\n",
       "      <td>...</td>\n",
       "      <td>...</td>\n",
       "      <td>...</td>\n",
       "      <td>...</td>\n",
       "      <td>...</td>\n",
       "      <td>...</td>\n",
       "    </tr>\n",
       "    <tr>\n",
       "      <th>2023-09-11</th>\n",
       "      <td>185500.00000</td>\n",
       "      <td>70800.000000</td>\n",
       "      <td>48250.000000</td>\n",
       "      <td>5110.0</td>\n",
       "      <td>5070.000000</td>\n",
       "      <td>28550.000000</td>\n",
       "      <td>446.873749</td>\n",
       "    </tr>\n",
       "    <tr>\n",
       "      <th>2023-09-12</th>\n",
       "      <td>186200.00000</td>\n",
       "      <td>70500.000000</td>\n",
       "      <td>48400.000000</td>\n",
       "      <td>5140.0</td>\n",
       "      <td>5000.000000</td>\n",
       "      <td>28750.000000</td>\n",
       "      <td>444.422363</td>\n",
       "    </tr>\n",
       "    <tr>\n",
       "      <th>2023-09-13</th>\n",
       "      <td>189800.00000</td>\n",
       "      <td>70900.000000</td>\n",
       "      <td>47800.000000</td>\n",
       "      <td>5135.0</td>\n",
       "      <td>4860.000000</td>\n",
       "      <td>28300.000000</td>\n",
       "      <td>444.940552</td>\n",
       "    </tr>\n",
       "    <tr>\n",
       "      <th>2023-09-14</th>\n",
       "      <td>190700.00000</td>\n",
       "      <td>71700.000000</td>\n",
       "      <td>48300.000000</td>\n",
       "      <td>5065.0</td>\n",
       "      <td>4880.000000</td>\n",
       "      <td>29300.000000</td>\n",
       "      <td>448.777008</td>\n",
       "    </tr>\n",
       "    <tr>\n",
       "      <th>2023-09-15</th>\n",
       "      <td>192200.00000</td>\n",
       "      <td>72000.000000</td>\n",
       "      <td>48850.000000</td>\n",
       "      <td>4990.0</td>\n",
       "      <td>4905.000000</td>\n",
       "      <td>28650.000000</td>\n",
       "      <td>443.369995</td>\n",
       "    </tr>\n",
       "  </tbody>\n",
       "</table>\n",
       "<p>522 rows × 7 columns</p>\n",
       "</div>"
      ],
      "text/plain": [
       "               005380.KS     005930.KS      035720.KS  123310.KS  \\\n",
       "Date                                                               \n",
       "2021-09-15  195281.43750  73660.953125  123207.585938     4300.0   \n",
       "2021-09-16  193883.21875  72799.976562  122201.804688     4345.0   \n",
       "2021-09-17  194815.37500  73852.289062  120190.257812     4330.0   \n",
       "2021-09-20           NaN           NaN            NaN        NaN   \n",
       "2021-09-21           NaN           NaN            NaN        NaN   \n",
       "...                  ...           ...            ...        ...   \n",
       "2023-09-11  185500.00000  70800.000000   48250.000000     5110.0   \n",
       "2023-09-12  186200.00000  70500.000000   48400.000000     5140.0   \n",
       "2023-09-13  189800.00000  70900.000000   47800.000000     5135.0   \n",
       "2023-09-14  190700.00000  71700.000000   48300.000000     5065.0   \n",
       "2023-09-15  192200.00000  72000.000000   48850.000000     4990.0   \n",
       "\n",
       "               337930.KQ     353200.KS         SPY  \n",
       "Date                                                \n",
       "2021-09-15  11086.661133  16653.384766         NaN  \n",
       "2021-09-16  11283.756836  16459.740234  432.292297  \n",
       "2021-09-17  11530.126953  16992.261719  428.081360  \n",
       "2021-09-20           NaN           NaN  420.943420  \n",
       "2021-09-21           NaN           NaN  420.545746  \n",
       "...                  ...           ...         ...  \n",
       "2023-09-11   5070.000000  28550.000000  446.873749  \n",
       "2023-09-12   5000.000000  28750.000000  444.422363  \n",
       "2023-09-13   4860.000000  28300.000000  444.940552  \n",
       "2023-09-14   4880.000000  29300.000000  448.777008  \n",
       "2023-09-15   4905.000000  28650.000000  443.369995  \n",
       "\n",
       "[522 rows x 7 columns]"
      ]
     },
     "execution_count": 14,
     "metadata": {},
     "output_type": "execute_result"
    }
   ],
   "source": [
    "#포트폴리오 상관관계 파악\n",
    "tickers=[\n",
    "    '005380.KS',\n",
    "    '005930.KS',\n",
    "    '035720.KS',\n",
    "    '123310.KS',\n",
    "    '337930.KQ',\n",
    "    '353200.KS',\n",
    "    'SPY'\n",
    "]\n",
    "\n",
    "data=yf.download(tickers,period='2y')\n",
    "data=data['Adj Close']\n",
    "data"
   ]
  },
  {
   "cell_type": "code",
   "execution_count": 15,
   "id": "5c6a6bc0",
   "metadata": {
    "ExecuteTime": {
     "end_time": "2023-09-17T06:25:31.989258Z",
     "start_time": "2023-09-17T06:25:31.982284Z"
    }
   },
   "outputs": [],
   "source": [
    "#열이름바꾸기\n",
    "data.rename(columns={\n",
    "    data.columns[0]:'현대차',\n",
    "    data.columns[1]:'삼전',\n",
    "    data.columns[2]:'카카오',\n",
    "    data.columns[3]:'인버스',\n",
    "    data.columns[4]:'브엑코',\n",
    "    data.columns[5]:'대덕',\n",
    "    data.columns[6]:'S&P'\n",
    "},inplace=True\n",
    "           )"
   ]
  },
  {
   "cell_type": "code",
   "execution_count": 16,
   "id": "1b06ee34",
   "metadata": {
    "ExecuteTime": {
     "end_time": "2023-09-17T06:25:33.884937Z",
     "start_time": "2023-09-17T06:25:33.452341Z"
    }
   },
   "outputs": [
    {
     "data": {
      "text/plain": [
       "<Axes: >"
      ]
     },
     "execution_count": 16,
     "metadata": {},
     "output_type": "execute_result"
    },
    {
     "data": {
      "image/png": "[encoded data removed]",
      "text/plain": [
       "<Figure size 900x600 with 2 Axes>"
      ]
     },
     "metadata": {},
     "output_type": "display_data"
    }
   ],
   "source": [
    "rets=data.pct_change().dropna().round(3)\n",
    "plt.figure(figsize=(9,6))\n",
    "sns.heatmap(rets.corr(),annot=True,cmap='coolwarm') # 대체로 낮은 상관관계"
   ]
  },
  {
   "cell_type": "code",
   "execution_count": 17,
   "id": "cf69a604",
   "metadata": {
    "ExecuteTime": {
     "end_time": "2023-09-17T06:26:21.098471Z",
     "start_time": "2023-09-17T06:26:20.508553Z"
    }
   },
   "outputs": [
    {
     "data": {
      "text/plain": [
       "<Axes: xlabel='Date'>"
      ]
     },
     "execution_count": 17,
     "metadata": {},
     "output_type": "execute_result"
    },
    {
     "data": {
      "image/png": "[encoded data removed]",
      "text/plain": [
       "<Figure size 640x480 with 1 Axes>"
      ]
     },
     "metadata": {},
     "output_type": "display_data"
    }
   ],
   "source": [
    "cumrets=(1+rets).cumprod()-1\n",
    "cumrets.plot()"
   ]
  },
  {
   "cell_type": "code",
   "execution_count": 29,
   "id": "d7d626cf",
   "metadata": {
    "ExecuteTime": {
     "end_time": "2023-09-06T02:02:04.082402Z",
     "start_time": "2023-09-06T02:02:03.848010Z"
    }
   },
   "outputs": [
    {
     "data": {
      "text/plain": [
       "Date\n",
       "2023-01-02    10900\n",
       "2023-01-03    11000\n",
       "2023-01-04    11000\n",
       "2023-01-05    10650\n",
       "2023-01-06    10700\n",
       "              ...  \n",
       "2023-08-31    10070\n",
       "2023-09-01    11000\n",
       "2023-09-04    13340\n",
       "2023-09-05    13240\n",
       "2023-09-06    13110\n",
       "Name: Close, Length: 170, dtype: int64"
      ]
     },
     "execution_count": 29,
     "metadata": {},
     "output_type": "execute_result"
    }
   ],
   "source": [
    "#손절선, 익절선 구축하기\n",
    "data=fdr.DataReader('217270','2013') #네이버 \n",
    "data=data['Close']\n",
    "data['2023']"
   ]
  },
  {
   "cell_type": "code",
   "execution_count": 30,
   "id": "7c3ddfc4",
   "metadata": {
    "ExecuteTime": {
     "end_time": "2023-09-06T02:02:06.219784Z",
     "start_time": "2023-09-06T02:02:06.191185Z"
    }
   },
   "outputs": [
    {
     "data": {
      "text/plain": [
       "Date\n",
       "2023-08-31     8465.865238\n",
       "2023-09-01     9286.502894\n",
       "2023-09-04    11222.947253\n",
       "2023-09-05    10797.630386\n",
       "2023-09-06    10400.850400\n",
       "dtype: float64"
      ]
     },
     "execution_count": 30,
     "metadata": {},
     "output_type": "execute_result"
    }
   ],
   "source": [
    "datadev=talib.STDDEV(data,timeperiod=60, nbdev=2)\n",
    "datadev= datadev.fillna(method='bfill')\n",
    "losscut= data-datadev\n",
    "losscut.tail()"
   ]
  },
  {
   "cell_type": "markdown",
   "id": "ae2c84cc",
   "metadata": {},
   "source": [
    "1차 손절선입니다. 2 std(95%)를 기준으로 잡았고 본인 기호에 맞게 1,2,3 조정해서 사용하면 됩니다."
   ]
  },
  {
   "cell_type": "code",
   "execution_count": 31,
   "id": "25105c23",
   "metadata": {
    "ExecuteTime": {
     "end_time": "2023-09-06T02:02:08.085169Z",
     "start_time": "2023-09-06T02:02:08.064236Z"
    }
   },
   "outputs": [
    {
     "data": {
      "text/plain": [
       "Date\n",
       "2023-08-31    11674.134762\n",
       "2023-09-01    12713.497106\n",
       "2023-09-04    15457.052747\n",
       "2023-09-05    15682.369614\n",
       "2023-09-06    15819.149600\n",
       "dtype: float64"
      ]
     },
     "execution_count": 31,
     "metadata": {},
     "output_type": "execute_result"
    }
   ],
   "source": [
    "revenue= data+datadev\n",
    "revenue.tail()"
   ]
  },
  {
   "cell_type": "markdown",
   "id": "a8a8d69f",
   "metadata": {
    "ExecuteTime": {
     "end_time": "2023-05-16T05:16:16.346233Z",
     "start_time": "2023-05-16T05:16:16.322321Z"
    }
   },
   "source": [
    "마찬가지로 1차 익절선입니다. 이 부분이 뚫리면 30%정도 익절(손절)합니다. 확실한 전고(저)점이 있다면 이를 사용하기도 합니다. 마찬가지로 본인 기호에 맞게 사용하시면 됩니다. "
   ]
  },
  {
   "cell_type": "markdown",
   "id": "d4464535",
   "metadata": {},
   "source": [
    "저는 위 방식은 모멘텀 또는 top-down 방식으로 정한 주식에 한정에 사용합니다. bottom-up(가치투자)으로 종목을 선정한 경우 주가가 낮아지면 오히려 매수기회로 보기도 합니다."
   ]
  },
  {
   "cell_type": "code",
   "execution_count": 32,
   "id": "5adf7052",
   "metadata": {
    "ExecuteTime": {
     "end_time": "2023-09-06T02:02:11.098433Z",
     "start_time": "2023-09-06T02:02:10.929015Z"
    }
   },
   "outputs": [
    {
     "data": {
      "text/html": [
       "<div>\n",
       "<style scoped>\n",
       "    .dataframe tbody tr th:only-of-type {\n",
       "        vertical-align: middle;\n",
       "    }\n",
       "\n",
       "    .dataframe tbody tr th {\n",
       "        vertical-align: top;\n",
       "    }\n",
       "\n",
       "    .dataframe thead th {\n",
       "        text-align: right;\n",
       "    }\n",
       "</style>\n",
       "<table border=\"1\" class=\"dataframe\">\n",
       "  <thead>\n",
       "    <tr style=\"text-align: right;\">\n",
       "      <th></th>\n",
       "      <th>rcept_no</th>\n",
       "      <th>corp_cls</th>\n",
       "      <th>corp_code</th>\n",
       "      <th>corp_name</th>\n",
       "      <th>se</th>\n",
       "      <th>thstrm</th>\n",
       "      <th>frmtrm</th>\n",
       "      <th>lwfr</th>\n",
       "      <th>stock_knd</th>\n",
       "    </tr>\n",
       "  </thead>\n",
       "  <tbody>\n",
       "    <tr>\n",
       "      <th>0</th>\n",
       "      <td>20230814001476</td>\n",
       "      <td>K</td>\n",
       "      <td>01067808</td>\n",
       "      <td>넵튠</td>\n",
       "      <td>주당액면가액(원)</td>\n",
       "      <td>500</td>\n",
       "      <td>500</td>\n",
       "      <td>500</td>\n",
       "      <td>NaN</td>\n",
       "    </tr>\n",
       "    <tr>\n",
       "      <th>1</th>\n",
       "      <td>20230814001476</td>\n",
       "      <td>K</td>\n",
       "      <td>01067808</td>\n",
       "      <td>넵튠</td>\n",
       "      <td>(연결)당기순이익(백만원)</td>\n",
       "      <td>3,508</td>\n",
       "      <td>-162,019</td>\n",
       "      <td>77,671</td>\n",
       "      <td>NaN</td>\n",
       "    </tr>\n",
       "    <tr>\n",
       "      <th>2</th>\n",
       "      <td>20230814001476</td>\n",
       "      <td>K</td>\n",
       "      <td>01067808</td>\n",
       "      <td>넵튠</td>\n",
       "      <td>(별도)당기순이익(백만원)</td>\n",
       "      <td>3,719</td>\n",
       "      <td>-153,277</td>\n",
       "      <td>85,299</td>\n",
       "      <td>NaN</td>\n",
       "    </tr>\n",
       "    <tr>\n",
       "      <th>3</th>\n",
       "      <td>20230814001476</td>\n",
       "      <td>K</td>\n",
       "      <td>01067808</td>\n",
       "      <td>넵튠</td>\n",
       "      <td>(연결)주당순이익(원)</td>\n",
       "      <td>79</td>\n",
       "      <td>-4,679</td>\n",
       "      <td>3,451</td>\n",
       "      <td>NaN</td>\n",
       "    </tr>\n",
       "    <tr>\n",
       "      <th>4</th>\n",
       "      <td>20230814001476</td>\n",
       "      <td>K</td>\n",
       "      <td>01067808</td>\n",
       "      <td>넵튠</td>\n",
       "      <td>현금배당금총액(백만원)</td>\n",
       "      <td>-</td>\n",
       "      <td>-</td>\n",
       "      <td>-</td>\n",
       "      <td>NaN</td>\n",
       "    </tr>\n",
       "    <tr>\n",
       "      <th>5</th>\n",
       "      <td>20230814001476</td>\n",
       "      <td>K</td>\n",
       "      <td>01067808</td>\n",
       "      <td>넵튠</td>\n",
       "      <td>주식배당금총액(백만원)</td>\n",
       "      <td>-</td>\n",
       "      <td>-</td>\n",
       "      <td>-</td>\n",
       "      <td>NaN</td>\n",
       "    </tr>\n",
       "    <tr>\n",
       "      <th>6</th>\n",
       "      <td>20230814001476</td>\n",
       "      <td>K</td>\n",
       "      <td>01067808</td>\n",
       "      <td>넵튠</td>\n",
       "      <td>(연결)현금배당성향(%)</td>\n",
       "      <td>-</td>\n",
       "      <td>-</td>\n",
       "      <td>-</td>\n",
       "      <td>NaN</td>\n",
       "    </tr>\n",
       "    <tr>\n",
       "      <th>7</th>\n",
       "      <td>20230814001476</td>\n",
       "      <td>K</td>\n",
       "      <td>01067808</td>\n",
       "      <td>넵튠</td>\n",
       "      <td>현금배당수익률(%)</td>\n",
       "      <td>-</td>\n",
       "      <td>-</td>\n",
       "      <td>-</td>\n",
       "      <td>보통주</td>\n",
       "    </tr>\n",
       "    <tr>\n",
       "      <th>8</th>\n",
       "      <td>20230814001476</td>\n",
       "      <td>K</td>\n",
       "      <td>01067808</td>\n",
       "      <td>넵튠</td>\n",
       "      <td>현금배당수익률(%)</td>\n",
       "      <td>-</td>\n",
       "      <td>-</td>\n",
       "      <td>-</td>\n",
       "      <td>NaN</td>\n",
       "    </tr>\n",
       "    <tr>\n",
       "      <th>9</th>\n",
       "      <td>20230814001476</td>\n",
       "      <td>K</td>\n",
       "      <td>01067808</td>\n",
       "      <td>넵튠</td>\n",
       "      <td>주식배당수익률(%)</td>\n",
       "      <td>-</td>\n",
       "      <td>-</td>\n",
       "      <td>-</td>\n",
       "      <td>보통주</td>\n",
       "    </tr>\n",
       "    <tr>\n",
       "      <th>10</th>\n",
       "      <td>20230814001476</td>\n",
       "      <td>K</td>\n",
       "      <td>01067808</td>\n",
       "      <td>넵튠</td>\n",
       "      <td>주식배당수익률(%)</td>\n",
       "      <td>-</td>\n",
       "      <td>-</td>\n",
       "      <td>-</td>\n",
       "      <td>NaN</td>\n",
       "    </tr>\n",
       "    <tr>\n",
       "      <th>11</th>\n",
       "      <td>20230814001476</td>\n",
       "      <td>K</td>\n",
       "      <td>01067808</td>\n",
       "      <td>넵튠</td>\n",
       "      <td>주당 현금배당금(원)</td>\n",
       "      <td>-</td>\n",
       "      <td>-</td>\n",
       "      <td>-</td>\n",
       "      <td>보통주</td>\n",
       "    </tr>\n",
       "    <tr>\n",
       "      <th>12</th>\n",
       "      <td>20230814001476</td>\n",
       "      <td>K</td>\n",
       "      <td>01067808</td>\n",
       "      <td>넵튠</td>\n",
       "      <td>주당 현금배당금(원)</td>\n",
       "      <td>-</td>\n",
       "      <td>-</td>\n",
       "      <td>-</td>\n",
       "      <td>NaN</td>\n",
       "    </tr>\n",
       "    <tr>\n",
       "      <th>13</th>\n",
       "      <td>20230814001476</td>\n",
       "      <td>K</td>\n",
       "      <td>01067808</td>\n",
       "      <td>넵튠</td>\n",
       "      <td>주당 주식배당(주)</td>\n",
       "      <td>-</td>\n",
       "      <td>-</td>\n",
       "      <td>-</td>\n",
       "      <td>보통주</td>\n",
       "    </tr>\n",
       "    <tr>\n",
       "      <th>14</th>\n",
       "      <td>20230814001476</td>\n",
       "      <td>K</td>\n",
       "      <td>01067808</td>\n",
       "      <td>넵튠</td>\n",
       "      <td>주당 주식배당(주)</td>\n",
       "      <td>-</td>\n",
       "      <td>-</td>\n",
       "      <td>-</td>\n",
       "      <td>NaN</td>\n",
       "    </tr>\n",
       "  </tbody>\n",
       "</table>\n",
       "</div>"
      ],
      "text/plain": [
       "          rcept_no corp_cls corp_code corp_name              se thstrm  \\\n",
       "0   20230814001476        K  01067808        넵튠       주당액면가액(원)    500   \n",
       "1   20230814001476        K  01067808        넵튠  (연결)당기순이익(백만원)  3,508   \n",
       "2   20230814001476        K  01067808        넵튠  (별도)당기순이익(백만원)  3,719   \n",
       "3   20230814001476        K  01067808        넵튠    (연결)주당순이익(원)     79   \n",
       "4   20230814001476        K  01067808        넵튠    현금배당금총액(백만원)      -   \n",
       "5   20230814001476        K  01067808        넵튠    주식배당금총액(백만원)      -   \n",
       "6   20230814001476        K  01067808        넵튠   (연결)현금배당성향(%)      -   \n",
       "7   20230814001476        K  01067808        넵튠      현금배당수익률(%)      -   \n",
       "8   20230814001476        K  01067808        넵튠      현금배당수익률(%)      -   \n",
       "9   20230814001476        K  01067808        넵튠      주식배당수익률(%)      -   \n",
       "10  20230814001476        K  01067808        넵튠      주식배당수익률(%)      -   \n",
       "11  20230814001476        K  01067808        넵튠     주당 현금배당금(원)      -   \n",
       "12  20230814001476        K  01067808        넵튠     주당 현금배당금(원)      -   \n",
       "13  20230814001476        K  01067808        넵튠      주당 주식배당(주)      -   \n",
       "14  20230814001476        K  01067808        넵튠      주당 주식배당(주)      -   \n",
       "\n",
       "      frmtrm    lwfr stock_knd  \n",
       "0        500     500       NaN  \n",
       "1   -162,019  77,671       NaN  \n",
       "2   -153,277  85,299       NaN  \n",
       "3     -4,679   3,451       NaN  \n",
       "4          -       -       NaN  \n",
       "5          -       -       NaN  \n",
       "6          -       -       NaN  \n",
       "7          -       -       보통주  \n",
       "8          -       -       NaN  \n",
       "9          -       -       보통주  \n",
       "10         -       -       NaN  \n",
       "11         -       -       보통주  \n",
       "12         -       -       NaN  \n",
       "13         -       -       보통주  \n",
       "14         -       -       NaN  "
      ]
     },
     "execution_count": 32,
     "metadata": {},
     "output_type": "execute_result"
    }
   ],
   "source": [
    "api_key ='63ac1de9d81868afdb61735344cc0676b173473e'\n",
    "corp_code='01067808' #넵튠\n",
    "bsns_year='2023' \n",
    "bgn_de='2016-01-01'\n",
    "end_de='2023-05-01'\n",
    "reprt_code='11012' #사업보고서\n",
    "\n",
    "url_div=f'''https://opendart.fss.or.kr/api/alotMatter.json?crtfc_key={api_key}\n",
    "&corp_code={corp_code}&bsns_year={bsns_year}&reprt_code={reprt_code}'''\n",
    "\n",
    "div_data_ss= rq.get(url_div)\n",
    "div_data_ss_df= div_data_ss.json().get('list')\n",
    "div_data_ss_df= pd.DataFrame(div_data_ss_df)\n",
    "\n",
    "div_data_ss_df"
   ]
  },
  {
   "cell_type": "markdown",
   "id": "5200f3ac",
   "metadata": {},
   "source": [
    "네이버의 open dart 사업보고서 배당 정보입니다. 다른 사이트에서 크롤링으로 주요정보들을 가져올 수 있지만 저작권문제의 소지가 있으므로 가능하면 open dart를 사용하려고 합니다. .json 앞부분만 바꿔주면 회사채 발행, 미상환, 소송 내역 등등 유용한 정보를 얻을 수 있습니다."
   ]
  },
  {
   "cell_type": "code",
   "execution_count": 22,
   "id": "8b1c47b1",
   "metadata": {
    "ExecuteTime": {
     "end_time": "2023-09-04T02:18:33.191557Z",
     "start_time": "2023-09-04T02:18:29.993824Z"
    }
   },
   "outputs": [
    {
     "data": {
      "text/html": [
       "<div>\n",
       "<style scoped>\n",
       "    .dataframe tbody tr th:only-of-type {\n",
       "        vertical-align: middle;\n",
       "    }\n",
       "\n",
       "    .dataframe tbody tr th {\n",
       "        vertical-align: top;\n",
       "    }\n",
       "\n",
       "    .dataframe thead th {\n",
       "        text-align: right;\n",
       "    }\n",
       "</style>\n",
       "<table border=\"1\" class=\"dataframe\">\n",
       "  <thead>\n",
       "    <tr style=\"text-align: right;\">\n",
       "      <th></th>\n",
       "      <th>IFRS(연결)</th>\n",
       "      <th>2020/12</th>\n",
       "      <th>2021/12</th>\n",
       "      <th>2022/12</th>\n",
       "      <th>2023/06</th>\n",
       "      <th>전년동기</th>\n",
       "      <th>전년동기(%)</th>\n",
       "    </tr>\n",
       "  </thead>\n",
       "  <tbody>\n",
       "    <tr>\n",
       "      <th>0</th>\n",
       "      <td>매출액</td>\n",
       "      <td>53041.0</td>\n",
       "      <td>68176.0</td>\n",
       "      <td>82201.0</td>\n",
       "      <td>46883.0</td>\n",
       "      <td>38910.0</td>\n",
       "      <td>20.5</td>\n",
       "    </tr>\n",
       "    <tr>\n",
       "      <th>1</th>\n",
       "      <td>매출원가</td>\n",
       "      <td>NaN</td>\n",
       "      <td>NaN</td>\n",
       "      <td>NaN</td>\n",
       "      <td>NaN</td>\n",
       "      <td>NaN</td>\n",
       "      <td>NaN</td>\n",
       "    </tr>\n",
       "    <tr>\n",
       "      <th>2</th>\n",
       "      <td>매출총이익</td>\n",
       "      <td>53041.0</td>\n",
       "      <td>68176.0</td>\n",
       "      <td>82201.0</td>\n",
       "      <td>46883.0</td>\n",
       "      <td>38910.0</td>\n",
       "      <td>20.5</td>\n",
       "    </tr>\n",
       "    <tr>\n",
       "      <th>3</th>\n",
       "      <td>판매비와관리비계산에 참여한 계정 펼치기</td>\n",
       "      <td>40888.0</td>\n",
       "      <td>54921.0</td>\n",
       "      <td>69154.0</td>\n",
       "      <td>39852.0</td>\n",
       "      <td>32531.0</td>\n",
       "      <td>22.5</td>\n",
       "    </tr>\n",
       "    <tr>\n",
       "      <th>4</th>\n",
       "      <td>영업이익</td>\n",
       "      <td>12153.0</td>\n",
       "      <td>13255.0</td>\n",
       "      <td>13047.0</td>\n",
       "      <td>7031.0</td>\n",
       "      <td>6379.0</td>\n",
       "      <td>10.2</td>\n",
       "    </tr>\n",
       "    <tr>\n",
       "      <th>5</th>\n",
       "      <td>영업이익(발표기준)</td>\n",
       "      <td>12153.0</td>\n",
       "      <td>13255.0</td>\n",
       "      <td>13047.0</td>\n",
       "      <td>7031.0</td>\n",
       "      <td>6379.0</td>\n",
       "      <td>10.2</td>\n",
       "    </tr>\n",
       "    <tr>\n",
       "      <th>6</th>\n",
       "      <td>금융수익계산에 참여한 계정 펼치기</td>\n",
       "      <td>5246.0</td>\n",
       "      <td>7857.0</td>\n",
       "      <td>6789.0</td>\n",
       "      <td>2297.0</td>\n",
       "      <td>4006.0</td>\n",
       "      <td>-42.7</td>\n",
       "    </tr>\n",
       "    <tr>\n",
       "      <th>7</th>\n",
       "      <td>금융원가계산에 참여한 계정 펼치기</td>\n",
       "      <td>1464.0</td>\n",
       "      <td>3493.0</td>\n",
       "      <td>9315.0</td>\n",
       "      <td>3373.0</td>\n",
       "      <td>3916.0</td>\n",
       "      <td>-13.9</td>\n",
       "    </tr>\n",
       "    <tr>\n",
       "      <th>8</th>\n",
       "      <td>기타수익계산에 참여한 계정 펼치기</td>\n",
       "      <td>434.0</td>\n",
       "      <td>527.0</td>\n",
       "      <td>3106.0</td>\n",
       "      <td>1236.0</td>\n",
       "      <td>2672.0</td>\n",
       "      <td>-53.7</td>\n",
       "    </tr>\n",
       "    <tr>\n",
       "      <th>9</th>\n",
       "      <td>기타비용계산에 참여한 계정 펼치기</td>\n",
       "      <td>1188.0</td>\n",
       "      <td>2329.0</td>\n",
       "      <td>3757.0</td>\n",
       "      <td>2770.0</td>\n",
       "      <td>1867.0</td>\n",
       "      <td>48.3</td>\n",
       "    </tr>\n",
       "    <tr>\n",
       "      <th>10</th>\n",
       "      <td>종속기업,공동지배기업및관계기업관련손익계산에 참여한 계정 펼치기</td>\n",
       "      <td>1156.0</td>\n",
       "      <td>5447.0</td>\n",
       "      <td>968.0</td>\n",
       "      <td>956.0</td>\n",
       "      <td>-2075.0</td>\n",
       "      <td>흑자전환</td>\n",
       "    </tr>\n",
       "    <tr>\n",
       "      <th>11</th>\n",
       "      <td>세전계속사업이익</td>\n",
       "      <td>16336.0</td>\n",
       "      <td>21264.0</td>\n",
       "      <td>10837.0</td>\n",
       "      <td>5377.0</td>\n",
       "      <td>5198.0</td>\n",
       "      <td>3.4</td>\n",
       "    </tr>\n",
       "    <tr>\n",
       "      <th>12</th>\n",
       "      <td>법인세비용</td>\n",
       "      <td>4925.0</td>\n",
       "      <td>6487.0</td>\n",
       "      <td>4105.0</td>\n",
       "      <td>2073.0</td>\n",
       "      <td>2100.0</td>\n",
       "      <td>-1.3</td>\n",
       "    </tr>\n",
       "    <tr>\n",
       "      <th>13</th>\n",
       "      <td>계속영업이익</td>\n",
       "      <td>11410.0</td>\n",
       "      <td>14777.0</td>\n",
       "      <td>6732.0</td>\n",
       "      <td>3304.0</td>\n",
       "      <td>3099.0</td>\n",
       "      <td>6.6</td>\n",
       "    </tr>\n",
       "    <tr>\n",
       "      <th>14</th>\n",
       "      <td>중단영업이익</td>\n",
       "      <td>-2960.0</td>\n",
       "      <td>149999.0</td>\n",
       "      <td>NaN</td>\n",
       "      <td>NaN</td>\n",
       "      <td>NaN</td>\n",
       "      <td>NaN</td>\n",
       "    </tr>\n",
       "    <tr>\n",
       "      <th>15</th>\n",
       "      <td>당기순이익</td>\n",
       "      <td>8450.0</td>\n",
       "      <td>164776.0</td>\n",
       "      <td>6732.0</td>\n",
       "      <td>3304.0</td>\n",
       "      <td>3099.0</td>\n",
       "      <td>6.6</td>\n",
       "    </tr>\n",
       "    <tr>\n",
       "      <th>16</th>\n",
       "      <td>지배주주순이익</td>\n",
       "      <td>10021.0</td>\n",
       "      <td>164899.0</td>\n",
       "      <td>7603.0</td>\n",
       "      <td>3227.0</td>\n",
       "      <td>3545.0</td>\n",
       "      <td>-9.0</td>\n",
       "    </tr>\n",
       "    <tr>\n",
       "      <th>17</th>\n",
       "      <td>비지배주주순이익</td>\n",
       "      <td>-1571.0</td>\n",
       "      <td>-122.0</td>\n",
       "      <td>-871.0</td>\n",
       "      <td>76.0</td>\n",
       "      <td>-446.0</td>\n",
       "      <td>흑자전환</td>\n",
       "    </tr>\n",
       "  </tbody>\n",
       "</table>\n",
       "</div>"
      ],
      "text/plain": [
       "                              IFRS(연결)  2020/12   2021/12  2022/12  2023/06  \\\n",
       "0                                  매출액  53041.0   68176.0  82201.0  46883.0   \n",
       "1                                 매출원가      NaN       NaN      NaN      NaN   \n",
       "2                                매출총이익  53041.0   68176.0  82201.0  46883.0   \n",
       "3                판매비와관리비계산에 참여한 계정 펼치기  40888.0   54921.0  69154.0  39852.0   \n",
       "4                                 영업이익  12153.0   13255.0  13047.0   7031.0   \n",
       "5                           영업이익(발표기준)  12153.0   13255.0  13047.0   7031.0   \n",
       "6                   금융수익계산에 참여한 계정 펼치기   5246.0    7857.0   6789.0   2297.0   \n",
       "7                   금융원가계산에 참여한 계정 펼치기   1464.0    3493.0   9315.0   3373.0   \n",
       "8                   기타수익계산에 참여한 계정 펼치기    434.0     527.0   3106.0   1236.0   \n",
       "9                   기타비용계산에 참여한 계정 펼치기   1188.0    2329.0   3757.0   2770.0   \n",
       "10  종속기업,공동지배기업및관계기업관련손익계산에 참여한 계정 펼치기   1156.0    5447.0    968.0    956.0   \n",
       "11                            세전계속사업이익  16336.0   21264.0  10837.0   5377.0   \n",
       "12                               법인세비용   4925.0    6487.0   4105.0   2073.0   \n",
       "13                              계속영업이익  11410.0   14777.0   6732.0   3304.0   \n",
       "14                              중단영업이익  -2960.0  149999.0      NaN      NaN   \n",
       "15                               당기순이익   8450.0  164776.0   6732.0   3304.0   \n",
       "16                             지배주주순이익  10021.0  164899.0   7603.0   3227.0   \n",
       "17                            비지배주주순이익  -1571.0    -122.0   -871.0     76.0   \n",
       "\n",
       "       전년동기 전년동기(%)  \n",
       "0   38910.0    20.5  \n",
       "1       NaN     NaN  \n",
       "2   38910.0    20.5  \n",
       "3   32531.0    22.5  \n",
       "4    6379.0    10.2  \n",
       "5    6379.0    10.2  \n",
       "6    4006.0   -42.7  \n",
       "7    3916.0   -13.9  \n",
       "8    2672.0   -53.7  \n",
       "9    1867.0    48.3  \n",
       "10  -2075.0    흑자전환  \n",
       "11   5198.0     3.4  \n",
       "12   2100.0    -1.3  \n",
       "13   3099.0     6.6  \n",
       "14      NaN     NaN  \n",
       "15   3099.0     6.6  \n",
       "16   3545.0    -9.0  \n",
       "17   -446.0    흑자전환  "
      ]
     },
     "execution_count": 22,
     "metadata": {},
     "output_type": "execute_result"
    }
   ],
   "source": [
    "#무료사이트\n",
    "url='https://comp.fnguide.com/SVO2/ASP/SVD_Finance.asp?pGB=1&gicode=A035420&cID=&MenuYn=Y&ReportGB=&NewMenuID=103&stkGb=701'\n",
    "table= pd.read_html(url)\n",
    "data=table[0]\n",
    "data=data.T\n",
    "data.T"
   ]
  },
  {
   "cell_type": "code",
   "execution_count": 23,
   "id": "de6892aa",
   "metadata": {
    "ExecuteTime": {
     "end_time": "2023-09-04T02:18:44.264611Z",
     "start_time": "2023-09-04T02:18:43.882052Z"
    }
   },
   "outputs": [
    {
     "data": {
      "text/plain": [
       "Text(0.5, 1.0, 'EBIT')"
      ]
     },
     "execution_count": 23,
     "metadata": {},
     "output_type": "execute_result"
    },
    {
     "data": {
      "image/png": "[encoded data removed]",
      "text/plain": [
       "<Figure size 640x480 with 1 Axes>"
      ]
     },
     "metadata": {},
     "output_type": "display_data"
    }
   ],
   "source": [
    "data_ebit=pd.DataFrame(data[4])\n",
    "data_ebit=data_ebit.iloc[1:6]\n",
    "plt.bar(x=data_ebit.index,height=data_ebit[4])\n",
    "plt.title('EBIT')"
   ]
  },
  {
   "cell_type": "markdown",
   "id": "e2796e78",
   "metadata": {
    "ExecuteTime": {
     "end_time": "2023-06-02T01:31:33.041313Z",
     "start_time": "2023-06-02T01:31:33.023777Z"
    }
   },
   "source": [
    "# 해외주식 활용"
   ]
  },
  {
   "cell_type": "code",
   "execution_count": 6,
   "id": "aca1a383",
   "metadata": {
    "ExecuteTime": {
     "end_time": "2023-06-12T01:55:01.896610Z",
     "start_time": "2023-06-12T01:55:00.903967Z"
    }
   },
   "outputs": [
    {
     "data": {
      "text/html": [
       "<div>\n",
       "<style scoped>\n",
       "    .dataframe tbody tr th:only-of-type {\n",
       "        vertical-align: middle;\n",
       "    }\n",
       "\n",
       "    .dataframe tbody tr th {\n",
       "        vertical-align: top;\n",
       "    }\n",
       "\n",
       "    .dataframe thead th {\n",
       "        text-align: right;\n",
       "    }\n",
       "</style>\n",
       "<table border=\"1\" class=\"dataframe\">\n",
       "  <thead>\n",
       "    <tr style=\"text-align: right;\">\n",
       "      <th></th>\n",
       "      <th>date</th>\n",
       "      <th>symbol</th>\n",
       "      <th>reportedCurrency</th>\n",
       "      <th>cik</th>\n",
       "      <th>fillingDate</th>\n",
       "      <th>acceptedDate</th>\n",
       "      <th>calendarYear</th>\n",
       "      <th>period</th>\n",
       "      <th>revenue</th>\n",
       "      <th>costOfRevenue</th>\n",
       "      <th>...</th>\n",
       "      <th>incomeBeforeTaxRatio</th>\n",
       "      <th>incomeTaxExpense</th>\n",
       "      <th>netIncome</th>\n",
       "      <th>netIncomeRatio</th>\n",
       "      <th>eps</th>\n",
       "      <th>epsdiluted</th>\n",
       "      <th>weightedAverageShsOut</th>\n",
       "      <th>weightedAverageShsOutDil</th>\n",
       "      <th>link</th>\n",
       "      <th>finalLink</th>\n",
       "    </tr>\n",
       "  </thead>\n",
       "  <tbody>\n",
       "    <tr>\n",
       "      <th>0</th>\n",
       "      <td>2022-09-24</td>\n",
       "      <td>AAPL</td>\n",
       "      <td>USD</td>\n",
       "      <td>320193</td>\n",
       "      <td>2022-10-28</td>\n",
       "      <td>2022-10-27 18:01:14</td>\n",
       "      <td>2022</td>\n",
       "      <td>FY</td>\n",
       "      <td>394328000000</td>\n",
       "      <td>223546000000</td>\n",
       "      <td>...</td>\n",
       "      <td>0.302040</td>\n",
       "      <td>19300000000</td>\n",
       "      <td>99803000000</td>\n",
       "      <td>0.253096</td>\n",
       "      <td>6.15</td>\n",
       "      <td>6.11</td>\n",
       "      <td>16215963000</td>\n",
       "      <td>16325819000</td>\n",
       "      <td>https://www.sec.gov/Archives/edgar/data/320193...</td>\n",
       "      <td>https://www.sec.gov/Archives/edgar/data/320193...</td>\n",
       "    </tr>\n",
       "    <tr>\n",
       "      <th>1</th>\n",
       "      <td>2021-09-25</td>\n",
       "      <td>AAPL</td>\n",
       "      <td>USD</td>\n",
       "      <td>320193</td>\n",
       "      <td>2021-10-29</td>\n",
       "      <td>2021-10-28 18:04:28</td>\n",
       "      <td>2021</td>\n",
       "      <td>FY</td>\n",
       "      <td>365817000000</td>\n",
       "      <td>212981000000</td>\n",
       "      <td>...</td>\n",
       "      <td>0.298529</td>\n",
       "      <td>14527000000</td>\n",
       "      <td>94680000000</td>\n",
       "      <td>0.258818</td>\n",
       "      <td>5.67</td>\n",
       "      <td>5.61</td>\n",
       "      <td>16701272000</td>\n",
       "      <td>16864919000</td>\n",
       "      <td>https://www.sec.gov/Archives/edgar/data/320193...</td>\n",
       "      <td>https://www.sec.gov/Archives/edgar/data/320193...</td>\n",
       "    </tr>\n",
       "    <tr>\n",
       "      <th>2</th>\n",
       "      <td>2020-09-26</td>\n",
       "      <td>AAPL</td>\n",
       "      <td>USD</td>\n",
       "      <td>320193</td>\n",
       "      <td>2020-10-30</td>\n",
       "      <td>2020-10-29 18:06:25</td>\n",
       "      <td>2020</td>\n",
       "      <td>FY</td>\n",
       "      <td>274515000000</td>\n",
       "      <td>169559000000</td>\n",
       "      <td>...</td>\n",
       "      <td>0.244398</td>\n",
       "      <td>9680000000</td>\n",
       "      <td>57411000000</td>\n",
       "      <td>0.209136</td>\n",
       "      <td>3.31</td>\n",
       "      <td>3.28</td>\n",
       "      <td>17352119000</td>\n",
       "      <td>17528214000</td>\n",
       "      <td>https://www.sec.gov/Archives/edgar/data/320193...</td>\n",
       "      <td>https://www.sec.gov/Archives/edgar/data/320193...</td>\n",
       "    </tr>\n",
       "    <tr>\n",
       "      <th>3</th>\n",
       "      <td>2019-09-28</td>\n",
       "      <td>AAPL</td>\n",
       "      <td>USD</td>\n",
       "      <td>320193</td>\n",
       "      <td>2019-10-31</td>\n",
       "      <td>2019-10-30 18:12:36</td>\n",
       "      <td>2019</td>\n",
       "      <td>FY</td>\n",
       "      <td>260174000000</td>\n",
       "      <td>161782000000</td>\n",
       "      <td>...</td>\n",
       "      <td>0.252666</td>\n",
       "      <td>10481000000</td>\n",
       "      <td>55256000000</td>\n",
       "      <td>0.212381</td>\n",
       "      <td>2.99</td>\n",
       "      <td>2.97</td>\n",
       "      <td>18471336000</td>\n",
       "      <td>18595652000</td>\n",
       "      <td>https://www.sec.gov/Archives/edgar/data/320193...</td>\n",
       "      <td>https://www.sec.gov/Archives/edgar/data/320193...</td>\n",
       "    </tr>\n",
       "    <tr>\n",
       "      <th>4</th>\n",
       "      <td>2018-09-29</td>\n",
       "      <td>AAPL</td>\n",
       "      <td>USD</td>\n",
       "      <td>320193</td>\n",
       "      <td>2018-11-05</td>\n",
       "      <td>2018-11-05 08:01:40</td>\n",
       "      <td>2018</td>\n",
       "      <td>FY</td>\n",
       "      <td>265595000000</td>\n",
       "      <td>163756000000</td>\n",
       "      <td>...</td>\n",
       "      <td>0.274489</td>\n",
       "      <td>13372000000</td>\n",
       "      <td>59531000000</td>\n",
       "      <td>0.224142</td>\n",
       "      <td>3.00</td>\n",
       "      <td>2.98</td>\n",
       "      <td>19821508000</td>\n",
       "      <td>20000436000</td>\n",
       "      <td>https://www.sec.gov/Archives/edgar/data/320193...</td>\n",
       "      <td>https://www.sec.gov/Archives/edgar/data/320193...</td>\n",
       "    </tr>\n",
       "  </tbody>\n",
       "</table>\n",
       "<p>5 rows × 38 columns</p>\n",
       "</div>"
      ],
      "text/plain": [
       "        date symbol reportedCurrency     cik fillingDate         acceptedDate  \\\n",
       "0 2022-09-24   AAPL              USD  320193  2022-10-28  2022-10-27 18:01:14   \n",
       "1 2021-09-25   AAPL              USD  320193  2021-10-29  2021-10-28 18:04:28   \n",
       "2 2020-09-26   AAPL              USD  320193  2020-10-30  2020-10-29 18:06:25   \n",
       "3 2019-09-28   AAPL              USD  320193  2019-10-31  2019-10-30 18:12:36   \n",
       "4 2018-09-29   AAPL              USD  320193  2018-11-05  2018-11-05 08:01:40   \n",
       "\n",
       "   calendarYear period       revenue  costOfRevenue  ...  \\\n",
       "0          2022     FY  394328000000   223546000000  ...   \n",
       "1          2021     FY  365817000000   212981000000  ...   \n",
       "2          2020     FY  274515000000   169559000000  ...   \n",
       "3          2019     FY  260174000000   161782000000  ...   \n",
       "4          2018     FY  265595000000   163756000000  ...   \n",
       "\n",
       "   incomeBeforeTaxRatio  incomeTaxExpense    netIncome  netIncomeRatio   eps  \\\n",
       "0              0.302040       19300000000  99803000000        0.253096  6.15   \n",
       "1              0.298529       14527000000  94680000000        0.258818  5.67   \n",
       "2              0.244398        9680000000  57411000000        0.209136  3.31   \n",
       "3              0.252666       10481000000  55256000000        0.212381  2.99   \n",
       "4              0.274489       13372000000  59531000000        0.224142  3.00   \n",
       "\n",
       "   epsdiluted  weightedAverageShsOut  weightedAverageShsOutDil  \\\n",
       "0        6.11            16215963000               16325819000   \n",
       "1        5.61            16701272000               16864919000   \n",
       "2        3.28            17352119000               17528214000   \n",
       "3        2.97            18471336000               18595652000   \n",
       "4        2.98            19821508000               20000436000   \n",
       "\n",
       "                                                link  \\\n",
       "0  https://www.sec.gov/Archives/edgar/data/320193...   \n",
       "1  https://www.sec.gov/Archives/edgar/data/320193...   \n",
       "2  https://www.sec.gov/Archives/edgar/data/320193...   \n",
       "3  https://www.sec.gov/Archives/edgar/data/320193...   \n",
       "4  https://www.sec.gov/Archives/edgar/data/320193...   \n",
       "\n",
       "                                           finalLink  \n",
       "0  https://www.sec.gov/Archives/edgar/data/320193...  \n",
       "1  https://www.sec.gov/Archives/edgar/data/320193...  \n",
       "2  https://www.sec.gov/Archives/edgar/data/320193...  \n",
       "3  https://www.sec.gov/Archives/edgar/data/320193...  \n",
       "4  https://www.sec.gov/Archives/edgar/data/320193...  \n",
       "\n",
       "[5 rows x 38 columns]"
      ]
     },
     "execution_count": 6,
     "metadata": {},
     "output_type": "execute_result"
    }
   ],
   "source": [
    "api='1234'\n",
    "url=f'https://financialmodelingprep.com/api/v3/income-statement/AAPL?limit=200&apikey={api}'.format(api)\n",
    "df=pd.read_json(url)\n",
    "df"
   ]
  },
  {
   "cell_type": "markdown",
   "id": "effcf893",
   "metadata": {},
   "source": [
    "FMP 사이트를 이용해 재무제표를 불러옵니다. 저는 무료버전이라 5년 밖에 안됩니다.\n",
    "또한 &period=quater를 추가하면 분기별로 볼 수 있습니다. 또한 income-statement 부분을 balance-sheet-statement로 바꾸거나 cash-flow-statement 로 바꾸면 위 재무제표를 볼 수 있습니다  "
   ]
  },
  {
   "cell_type": "markdown",
   "id": "87d51bd1",
   "metadata": {
    "ExecuteTime": {
     "end_time": "2023-06-02T08:05:56.015998Z",
     "start_time": "2023-06-02T08:05:56.008536Z"
    }
   },
   "source": [
    "재무제표 외에도 유용한 정보가 많이 있습니다(https://financialmodelingprep.com/api/v3/ratios-ttm/AAPL?apikey=YOUR_API_KEY) 등. 그러나 대부분 월 19$ 결제를 해야 사용할 수 있습니다 ㅠ"
   ]
  },
  {
   "cell_type": "code",
   "execution_count": 29,
   "id": "5d859b0b",
   "metadata": {
    "ExecuteTime": {
     "end_time": "2023-06-03T05:57:57.899371Z",
     "start_time": "2023-06-03T05:57:44.366180Z"
    }
   },
   "outputs": [],
   "source": [
    "!pip install feedparser --quiet\n",
    "!pip install newspaper3k --quiet\n",
    "!pip install konlpy --quiet\n",
    "!pip install MeCab --quiet\n",
    "!pip install wordcloud --quiet"
   ]
  },
  {
   "cell_type": "code",
   "execution_count": 30,
   "id": "257a0650",
   "metadata": {
    "ExecuteTime": {
     "end_time": "2023-06-03T05:58:00.315740Z",
     "start_time": "2023-06-03T05:58:00.302838Z"
    }
   },
   "outputs": [],
   "source": [
    "%matplotlib inline\n",
    "import feedparser\n",
    "import newspaper\n",
    "from konlpy.tag import Mecab\n",
    "from collections import Counter\n",
    "import matplotlib.pyplot as plt\n",
    "from wordcloud import WordCloud\n",
    "from konlpy.tag import Twitter\n",
    "from collections import Counter\n",
    "import MeCab"
   ]
  }
 ],
 "metadata": {
  "hide_input": false,
  "kernelspec": {
   "display_name": "Python 3 (ipykernel)",
   "language": "python",
   "name": "python3"
  },
  "language_info": {
   "codemirror_mode": {
    "name": "ipython",
    "version": 3
   },
   "file_extension": ".py",
   "mimetype": "text/x-python",
   "name": "python",
   "nbconvert_exporter": "python",
   "pygments_lexer": "ipython3",
   "version": "3.9.13"
  },
  "toc": {
   "base_numbering": 1,
   "nav_menu": {},
   "number_sections": true,
   "sideBar": true,
   "skip_h1_title": false,
   "title_cell": "Table of Contents",
   "title_sidebar": "Contents",
   "toc_cell": false,
   "toc_position": {},
   "toc_section_display": true,
   "toc_window_display": false
  },
  "varInspector": {
   "cols": {
    "lenName": 16,
    "lenType": 16,
    "lenVar": 40
   },
   "kernels_config": {
    "python": {
     "delete_cmd_postfix": "",
     "delete_cmd_prefix": "del ",
     "library": "var_list.py",
     "varRefreshCmd": "print(var_dic_list())"
    },
    "r": {
     "delete_cmd_postfix": ") ",
     "delete_cmd_prefix": "rm(",
     "library": "var_list.r",
     "varRefreshCmd": "cat(var_dic_list()) "
    }
   },
   "types_to_exclude": [
    "module",
    "function",
    "builtin_function_or_method",
    "instance",
    "_Feature"
   ],
   "window_display": false
  }
 },
 "nbformat": 4,
 "nbformat_minor": 5
}
